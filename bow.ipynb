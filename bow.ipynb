{
  "nbformat": 4,
  "nbformat_minor": 0,
  "metadata": {
    "colab": {
      "provenance": [],
      "authorship_tag": "ABX9TyMaF/iwAemjVwcl1+cV7F8C",
      "include_colab_link": true
    },
    "kernelspec": {
      "name": "python3",
      "display_name": "Python 3"
    },
    "language_info": {
      "name": "python"
    }
  },
  "cells": [
    {
      "cell_type": "markdown",
      "metadata": {
        "id": "view-in-github",
        "colab_type": "text"
      },
      "source": [
        "<a href=\"https://colab.research.google.com/github/atoxcode/NLP-Indonesia/blob/master/bow.ipynb\" target=\"_parent\"><img src=\"https://colab.research.google.com/assets/colab-badge.svg\" alt=\"Open In Colab\"/></a>"
      ]
    },
    {
      "cell_type": "code",
      "execution_count": 1,
      "metadata": {
        "colab": {
          "base_uri": "https://localhost:8080/"
        },
        "id": "baYJ0kLb4gfA",
        "outputId": "c764cf5f-e6d5-4d44-bdf4-0fe4e60ad1b5"
      },
      "outputs": [
        {
          "output_type": "stream",
          "name": "stderr",
          "text": [
            "[nltk_data] Downloading package punkt to /root/nltk_data...\n",
            "[nltk_data]   Package punkt is already up-to-date!\n"
          ]
        },
        {
          "output_type": "execute_result",
          "data": {
            "text/plain": [
              "True"
            ]
          },
          "metadata": {},
          "execution_count": 1
        }
      ],
      "source": [
        "#import libraries\n",
        "import nltk\n",
        "import re\n",
        "import numpy as np\n",
        "\n",
        "nltk.download('punkt')"
      ]
    },
    {
      "cell_type": "code",
      "source": [
        "#import data\n",
        "text = \"Ayunda Faza Maudya atau yang kerap dikenal dengan nama Maudy Ayunda merupakan aktris dan penyanyi asal Indonesia. Ia lahir di Jakarta, Indonesia pada 19 Desember 1994. Gadis cantik ini memulai karirnya di kancah hiburan tanah air melalui keikutsertaannya dalam sebuah film yang berjudul Untuk Rena. Film tersebut juga dibintangi oleh Surya Saputra. Kemudian ia juga pernah ikut andil dalam sebuah film Sang Pemimpi yang diusung oleh produser Mira Lesmana. Sejak berkiprah di dunia perfilman, gadis yang merupakan finalis GADIS Sampul tahun 2009 ini, juga diakui sebagai artis belia Indonesia yang berbakat. Setelah itu ia mulai ikut andil berperan di film Rumah Tanpa Jendela, Tendangan Dari Langit dan Malaikat Tanpa Sayap.\""
      ],
      "metadata": {
        "id": "t95zQh6g69EM"
      },
      "execution_count": 2,
      "outputs": []
    },
    {
      "cell_type": "code",
      "source": [
        "#tokenizing data\n",
        "dataset = nltk.sent_tokenize(text)\n"
      ],
      "metadata": {
        "id": "7yPGwrid5FK3"
      },
      "execution_count": 3,
      "outputs": []
    },
    {
      "cell_type": "code",
      "source": [
        "dataset"
      ],
      "metadata": {
        "colab": {
          "base_uri": "https://localhost:8080/"
        },
        "id": "xYXTRHiY-TsJ",
        "outputId": "6bc55192-a903-44fd-9289-0aeb2de6fcec"
      },
      "execution_count": 4,
      "outputs": [
        {
          "output_type": "execute_result",
          "data": {
            "text/plain": [
              "['Ayunda Faza Maudya atau yang kerap dikenal dengan nama Maudy Ayunda merupakan aktris dan penyanyi asal Indonesia.',\n",
              " 'Ia lahir di Jakarta, Indonesia pada 19 Desember 1994.',\n",
              " 'Gadis cantik ini memulai karirnya di kancah hiburan tanah air melalui keikutsertaannya dalam sebuah film yang berjudul Untuk Rena.',\n",
              " 'Film tersebut juga dibintangi oleh Surya Saputra.',\n",
              " 'Kemudian ia juga pernah ikut andil dalam sebuah film Sang Pemimpi yang diusung oleh produser Mira Lesmana.',\n",
              " 'Sejak berkiprah di dunia perfilman, gadis yang merupakan finalis GADIS Sampul tahun 2009 ini, juga diakui sebagai artis belia Indonesia yang berbakat.',\n",
              " 'Setelah itu ia mulai ikut andil berperan di film Rumah Tanpa Jendela, Tendangan Dari Langit dan Malaikat Tanpa Sayap.']"
            ]
          },
          "metadata": {},
          "execution_count": 4
        }
      ]
    },
    {
      "cell_type": "code",
      "source": [
        "#clean the data\n",
        "for i in range(len(dataset)):\n",
        "  dataset[i] = dataset[i].lower()\n",
        "  dataset[i] = re.sub(r'\\W', ' ', dataset[i])\n",
        "  dataset[i] = re.sub(r'\\s', ' ', dataset[i])"
      ],
      "metadata": {
        "id": "1d16R8ty-SPI"
      },
      "execution_count": 5,
      "outputs": []
    },
    {
      "cell_type": "code",
      "source": [
        "dataset"
      ],
      "metadata": {
        "colab": {
          "base_uri": "https://localhost:8080/"
        },
        "id": "z02DcKaY5WgZ",
        "outputId": "6b901aec-bf92-4782-9f33-69eaa3318bea"
      },
      "execution_count": 6,
      "outputs": [
        {
          "output_type": "execute_result",
          "data": {
            "text/plain": [
              "['ayunda faza maudya atau yang kerap dikenal dengan nama maudy ayunda merupakan aktris dan penyanyi asal indonesia ',\n",
              " 'ia lahir di jakarta  indonesia pada 19 desember 1994 ',\n",
              " 'gadis cantik ini memulai karirnya di kancah hiburan tanah air melalui keikutsertaannya dalam sebuah film yang berjudul untuk rena ',\n",
              " 'film tersebut juga dibintangi oleh surya saputra ',\n",
              " 'kemudian ia juga pernah ikut andil dalam sebuah film sang pemimpi yang diusung oleh produser mira lesmana ',\n",
              " 'sejak berkiprah di dunia perfilman  gadis yang merupakan finalis gadis sampul tahun 2009 ini  juga diakui sebagai artis belia indonesia yang berbakat ',\n",
              " 'setelah itu ia mulai ikut andil berperan di film rumah tanpa jendela  tendangan dari langit dan malaikat tanpa sayap ']"
            ]
          },
          "metadata": {},
          "execution_count": 6
        }
      ]
    },
    {
      "cell_type": "code",
      "source": [
        "#create bow model\n",
        "word2count = {}\n",
        "for data in dataset:\n",
        "  words = nltk.word_tokenize(data)\n",
        "  for word in words:\n",
        "    if word not in word2count.keys():\n",
        "      word2count[word] = 1\n",
        "    else:\n",
        "      word2count[word] += 1"
      ],
      "metadata": {
        "id": "4YZ0qeHa9dpq"
      },
      "execution_count": 7,
      "outputs": []
    },
    {
      "cell_type": "code",
      "source": [
        "word2count"
      ],
      "metadata": {
        "id": "dEL0aWVg_XE6"
      },
      "execution_count": null,
      "outputs": []
    },
    {
      "cell_type": "code",
      "source": [
        "len(word2count)"
      ],
      "metadata": {
        "colab": {
          "base_uri": "https://localhost:8080/"
        },
        "id": "vN0ZHWaU_bHZ",
        "outputId": "e6228466-c0b0-491c-fd97-d532c084756c"
      },
      "execution_count": 9,
      "outputs": [
        {
          "output_type": "execute_result",
          "data": {
            "text/plain": [
              "82"
            ]
          },
          "metadata": {},
          "execution_count": 9
        }
      ]
    },
    {
      "cell_type": "code",
      "source": [
        "#If we only want to retrieve the 80 most used data\n",
        "import heapq\n",
        "freq_words = heapq.nlargest(80, word2count, key=word2count.get)"
      ],
      "metadata": {
        "id": "q5IGgitqAAbm"
      },
      "execution_count": 12,
      "outputs": []
    },
    {
      "cell_type": "code",
      "source": [
        "X = []\n",
        "for data in dataset:\n",
        "  vector = []\n",
        "  for word in freq_words:\n",
        "    if word in nltk.word_tokenize(data):\n",
        "      vector.append(1)\n",
        "    else:\n",
        "      vector.append(0)\n",
        "  X.append(vector)\n",
        "X = np.asarray(X)"
      ],
      "metadata": {
        "id": "aAeclnt5Au1M"
      },
      "execution_count": 13,
      "outputs": []
    },
    {
      "cell_type": "code",
      "source": [
        "X"
      ],
      "metadata": {
        "colab": {
          "base_uri": "https://localhost:8080/"
        },
        "id": "u4vKojKyBlW6",
        "outputId": "02e7fbba-77d9-4ae0-b8ac-3e1b2cfbdd6e"
      },
      "execution_count": 14,
      "outputs": [
        {
          "output_type": "execute_result",
          "data": {
            "text/plain": [
              "array([[1, 0, 0, 1, 0, 0, 0, 1, 1, 1, 0, 0, 0, 0, 0, 0, 0, 1, 1, 1, 1, 1,\n",
              "        1, 1, 1, 1, 1, 1, 0, 0, 0, 0, 0, 0, 0, 0, 0, 0, 0, 0, 0, 0, 0, 0,\n",
              "        0, 0, 0, 0, 0, 0, 0, 0, 0, 0, 0, 0, 0, 0, 0, 0, 0, 0, 0, 0, 0, 0,\n",
              "        0, 0, 0, 0, 0, 0, 0, 0, 0, 0, 0, 0, 0, 0],\n",
              "       [0, 1, 0, 1, 1, 0, 0, 0, 0, 0, 0, 0, 0, 0, 0, 0, 0, 0, 0, 0, 0, 0,\n",
              "        0, 0, 0, 0, 0, 0, 1, 1, 1, 1, 1, 1, 0, 0, 0, 0, 0, 0, 0, 0, 0, 0,\n",
              "        0, 0, 0, 0, 0, 0, 0, 0, 0, 0, 0, 0, 0, 0, 0, 0, 0, 0, 0, 0, 0, 0,\n",
              "        0, 0, 0, 0, 0, 0, 0, 0, 0, 0, 0, 0, 0, 0],\n",
              "       [1, 1, 1, 0, 0, 1, 0, 0, 0, 0, 1, 1, 1, 0, 0, 0, 0, 0, 0, 0, 0, 0,\n",
              "        0, 0, 0, 0, 0, 0, 0, 0, 0, 0, 0, 0, 1, 1, 1, 1, 1, 1, 1, 1, 1, 1,\n",
              "        1, 1, 0, 0, 0, 0, 0, 0, 0, 0, 0, 0, 0, 0, 0, 0, 0, 0, 0, 0, 0, 0,\n",
              "        0, 0, 0, 0, 0, 0, 0, 0, 0, 0, 0, 0, 0, 0],\n",
              "       [0, 0, 1, 0, 0, 0, 1, 0, 0, 0, 0, 0, 0, 1, 0, 0, 0, 0, 0, 0, 0, 0,\n",
              "        0, 0, 0, 0, 0, 0, 0, 0, 0, 0, 0, 0, 0, 0, 0, 0, 0, 0, 0, 0, 0, 0,\n",
              "        0, 0, 1, 1, 1, 1, 0, 0, 0, 0, 0, 0, 0, 0, 0, 0, 0, 0, 0, 0, 0, 0,\n",
              "        0, 0, 0, 0, 0, 0, 0, 0, 0, 0, 0, 0, 0, 0],\n",
              "       [1, 0, 1, 0, 1, 0, 1, 0, 0, 0, 0, 1, 1, 1, 1, 1, 0, 0, 0, 0, 0, 0,\n",
              "        0, 0, 0, 0, 0, 0, 0, 0, 0, 0, 0, 0, 0, 0, 0, 0, 0, 0, 0, 0, 0, 0,\n",
              "        0, 0, 0, 0, 0, 0, 1, 1, 1, 1, 1, 1, 1, 1, 0, 0, 0, 0, 0, 0, 0, 0,\n",
              "        0, 0, 0, 0, 0, 0, 0, 0, 0, 0, 0, 0, 0, 0],\n",
              "       [1, 1, 0, 1, 0, 1, 1, 0, 1, 0, 1, 0, 0, 0, 0, 0, 0, 0, 0, 0, 0, 0,\n",
              "        0, 0, 0, 0, 0, 0, 0, 0, 0, 0, 0, 0, 0, 0, 0, 0, 0, 0, 0, 0, 0, 0,\n",
              "        0, 0, 0, 0, 0, 0, 0, 0, 0, 0, 0, 0, 0, 0, 1, 1, 1, 1, 1, 1, 1, 1,\n",
              "        1, 1, 1, 1, 1, 0, 0, 0, 0, 0, 0, 0, 0, 0],\n",
              "       [0, 1, 1, 0, 1, 0, 0, 0, 0, 1, 0, 0, 0, 0, 1, 1, 1, 0, 0, 0, 0, 0,\n",
              "        0, 0, 0, 0, 0, 0, 0, 0, 0, 0, 0, 0, 0, 0, 0, 0, 0, 0, 0, 0, 0, 0,\n",
              "        0, 0, 0, 0, 0, 0, 0, 0, 0, 0, 0, 0, 0, 0, 0, 0, 0, 0, 0, 0, 0, 0,\n",
              "        0, 0, 0, 0, 0, 1, 1, 1, 1, 1, 1, 1, 1, 1]])"
            ]
          },
          "metadata": {},
          "execution_count": 14
        }
      ]
    },
    {
      "cell_type": "code",
      "source": [],
      "metadata": {
        "id": "CoQ9AMMJBmxo"
      },
      "execution_count": null,
      "outputs": []
    }
  ]
}