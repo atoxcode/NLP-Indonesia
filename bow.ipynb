{
 "cells": [
  {
   "cell_type": "markdown",
   "metadata": {
    "colab_type": "text",
    "id": "view-in-github"
   },
   "source": [
    "<a href=\"https://colab.research.google.com/github/atoxcode/NLP-Indonesia/blob/master/bow.ipynb\" target=\"_parent\"><img src=\"https://colab.research.google.com/assets/colab-badge.svg\" alt=\"Open In Colab\"/></a>"
   ]
  },
  {
   "cell_type": "code",
   "execution_count": 1,
   "metadata": {
    "colab": {
     "base_uri": "https://localhost:8080/"
    },
    "id": "baYJ0kLb4gfA",
    "outputId": "c764cf5f-e6d5-4d44-bdf4-0fe4e60ad1b5"
   },
   "outputs": [
    {
     "name": "stderr",
     "output_type": "stream",
     "text": [
      "[nltk_data] Downloading package punkt to\n",
      "[nltk_data]     /Users/defryhamdhana/nltk_data...\n",
      "[nltk_data]   Unzipping tokenizers/punkt.zip.\n"
     ]
    },
    {
     "data": {
      "text/plain": [
       "True"
      ]
     },
     "execution_count": 1,
     "metadata": {},
     "output_type": "execute_result"
    }
   ],
   "source": [
    "#import libraries\n",
    "import nltk\n",
    "import re\n",
    "import numpy as np\n",
    "\n",
    "nltk.download('punkt')"
   ]
  },
  {
   "cell_type": "code",
   "execution_count": 2,
   "metadata": {
    "id": "t95zQh6g69EM"
   },
   "outputs": [],
   "source": [
    "#import data\n",
    "text = \"Ayunda Faza Maudya atau yang kerap dikenal dengan nama Maudy Ayunda merupakan aktris dan penyanyi asal Indonesia. Ia lahir di Jakarta, Indonesia pada 19 Desember 1994. Gadis cantik ini memulai karirnya di kancah hiburan tanah air melalui keikutsertaannya dalam sebuah film yang berjudul Untuk Rena. Film tersebut juga dibintangi oleh Surya Saputra. Kemudian ia juga pernah ikut andil dalam sebuah film Sang Pemimpi yang diusung oleh produser Mira Lesmana. Sejak berkiprah di dunia perfilman, gadis yang merupakan finalis GADIS Sampul tahun 2009 ini, juga diakui sebagai artis belia Indonesia yang berbakat. Setelah itu ia mulai ikut andil berperan di film Rumah Tanpa Jendela, Tendangan Dari Langit dan Malaikat Tanpa Sayap.\""
   ]
  },
  {
   "cell_type": "code",
   "execution_count": 3,
   "metadata": {
    "id": "7yPGwrid5FK3"
   },
   "outputs": [],
   "source": [
    "#tokenizing data\n",
    "dataset = nltk.sent_tokenize(text)\n"
   ]
  },
  {
   "cell_type": "code",
   "execution_count": 4,
   "metadata": {
    "colab": {
     "base_uri": "https://localhost:8080/"
    },
    "id": "xYXTRHiY-TsJ",
    "outputId": "6bc55192-a903-44fd-9289-0aeb2de6fcec"
   },
   "outputs": [
    {
     "data": {
      "text/plain": [
       "['Ayunda Faza Maudya atau yang kerap dikenal dengan nama Maudy Ayunda merupakan aktris dan penyanyi asal Indonesia.',\n",
       " 'Ia lahir di Jakarta, Indonesia pada 19 Desember 1994.',\n",
       " 'Gadis cantik ini memulai karirnya di kancah hiburan tanah air melalui keikutsertaannya dalam sebuah film yang berjudul Untuk Rena.',\n",
       " 'Film tersebut juga dibintangi oleh Surya Saputra.',\n",
       " 'Kemudian ia juga pernah ikut andil dalam sebuah film Sang Pemimpi yang diusung oleh produser Mira Lesmana.',\n",
       " 'Sejak berkiprah di dunia perfilman, gadis yang merupakan finalis GADIS Sampul tahun 2009 ini, juga diakui sebagai artis belia Indonesia yang berbakat.',\n",
       " 'Setelah itu ia mulai ikut andil berperan di film Rumah Tanpa Jendela, Tendangan Dari Langit dan Malaikat Tanpa Sayap.']"
      ]
     },
     "execution_count": 4,
     "metadata": {},
     "output_type": "execute_result"
    }
   ],
   "source": [
    "dataset"
   ]
  },
  {
   "cell_type": "code",
   "execution_count": 5,
   "metadata": {
    "id": "1d16R8ty-SPI"
   },
   "outputs": [],
   "source": [
    "#clean the data\n",
    "for i in range(len(dataset)):\n",
    "  dataset[i] = dataset[i].lower()\n",
    "  dataset[i] = re.sub(r'\\W', ' ', dataset[i])\n",
    "  dataset[i] = re.sub(r'\\s', ' ', dataset[i])"
   ]
  },
  {
   "cell_type": "code",
   "execution_count": 6,
   "metadata": {
    "colab": {
     "base_uri": "https://localhost:8080/"
    },
    "id": "z02DcKaY5WgZ",
    "outputId": "6b901aec-bf92-4782-9f33-69eaa3318bea"
   },
   "outputs": [
    {
     "data": {
      "text/plain": [
       "['ayunda faza maudya atau yang kerap dikenal dengan nama maudy ayunda merupakan aktris dan penyanyi asal indonesia ',\n",
       " 'ia lahir di jakarta  indonesia pada 19 desember 1994 ',\n",
       " 'gadis cantik ini memulai karirnya di kancah hiburan tanah air melalui keikutsertaannya dalam sebuah film yang berjudul untuk rena ',\n",
       " 'film tersebut juga dibintangi oleh surya saputra ',\n",
       " 'kemudian ia juga pernah ikut andil dalam sebuah film sang pemimpi yang diusung oleh produser mira lesmana ',\n",
       " 'sejak berkiprah di dunia perfilman  gadis yang merupakan finalis gadis sampul tahun 2009 ini  juga diakui sebagai artis belia indonesia yang berbakat ',\n",
       " 'setelah itu ia mulai ikut andil berperan di film rumah tanpa jendela  tendangan dari langit dan malaikat tanpa sayap ']"
      ]
     },
     "execution_count": 6,
     "metadata": {},
     "output_type": "execute_result"
    }
   ],
   "source": [
    "dataset"
   ]
  },
  {
   "cell_type": "code",
   "execution_count": 7,
   "metadata": {
    "id": "4YZ0qeHa9dpq"
   },
   "outputs": [],
   "source": [
    "#create bow model\n",
    "word2count = {}\n",
    "for data in dataset:\n",
    "  words = nltk.word_tokenize(data)\n",
    "  for word in words:\n",
    "    if word not in word2count.keys():\n",
    "      word2count[word] = 1\n",
    "    else:\n",
    "      word2count[word] += 1"
   ]
  },
  {
   "cell_type": "code",
   "execution_count": 8,
   "metadata": {
    "id": "dEL0aWVg_XE6"
   },
   "outputs": [
    {
     "data": {
      "text/plain": [
       "{'ayunda': 2,\n",
       " 'faza': 1,\n",
       " 'maudya': 1,\n",
       " 'atau': 1,\n",
       " 'yang': 5,\n",
       " 'kerap': 1,\n",
       " 'dikenal': 1,\n",
       " 'dengan': 1,\n",
       " 'nama': 1,\n",
       " 'maudy': 1,\n",
       " 'merupakan': 2,\n",
       " 'aktris': 1,\n",
       " 'dan': 2,\n",
       " 'penyanyi': 1,\n",
       " 'asal': 1,\n",
       " 'indonesia': 3,\n",
       " 'ia': 3,\n",
       " 'lahir': 1,\n",
       " 'di': 4,\n",
       " 'jakarta': 1,\n",
       " 'pada': 1,\n",
       " '19': 1,\n",
       " 'desember': 1,\n",
       " '1994': 1,\n",
       " 'gadis': 3,\n",
       " 'cantik': 1,\n",
       " 'ini': 2,\n",
       " 'memulai': 1,\n",
       " 'karirnya': 1,\n",
       " 'kancah': 1,\n",
       " 'hiburan': 1,\n",
       " 'tanah': 1,\n",
       " 'air': 1,\n",
       " 'melalui': 1,\n",
       " 'keikutsertaannya': 1,\n",
       " 'dalam': 2,\n",
       " 'sebuah': 2,\n",
       " 'film': 4,\n",
       " 'berjudul': 1,\n",
       " 'untuk': 1,\n",
       " 'rena': 1,\n",
       " 'tersebut': 1,\n",
       " 'juga': 3,\n",
       " 'dibintangi': 1,\n",
       " 'oleh': 2,\n",
       " 'surya': 1,\n",
       " 'saputra': 1,\n",
       " 'kemudian': 1,\n",
       " 'pernah': 1,\n",
       " 'ikut': 2,\n",
       " 'andil': 2,\n",
       " 'sang': 1,\n",
       " 'pemimpi': 1,\n",
       " 'diusung': 1,\n",
       " 'produser': 1,\n",
       " 'mira': 1,\n",
       " 'lesmana': 1,\n",
       " 'sejak': 1,\n",
       " 'berkiprah': 1,\n",
       " 'dunia': 1,\n",
       " 'perfilman': 1,\n",
       " 'finalis': 1,\n",
       " 'sampul': 1,\n",
       " 'tahun': 1,\n",
       " '2009': 1,\n",
       " 'diakui': 1,\n",
       " 'sebagai': 1,\n",
       " 'artis': 1,\n",
       " 'belia': 1,\n",
       " 'berbakat': 1,\n",
       " 'setelah': 1,\n",
       " 'itu': 1,\n",
       " 'mulai': 1,\n",
       " 'berperan': 1,\n",
       " 'rumah': 1,\n",
       " 'tanpa': 2,\n",
       " 'jendela': 1,\n",
       " 'tendangan': 1,\n",
       " 'dari': 1,\n",
       " 'langit': 1,\n",
       " 'malaikat': 1,\n",
       " 'sayap': 1}"
      ]
     },
     "execution_count": 8,
     "metadata": {},
     "output_type": "execute_result"
    }
   ],
   "source": [
    "word2count"
   ]
  },
  {
   "cell_type": "code",
   "execution_count": 9,
   "metadata": {
    "colab": {
     "base_uri": "https://localhost:8080/"
    },
    "id": "vN0ZHWaU_bHZ",
    "outputId": "e6228466-c0b0-491c-fd97-d532c084756c"
   },
   "outputs": [
    {
     "data": {
      "text/plain": [
       "82"
      ]
     },
     "execution_count": 9,
     "metadata": {},
     "output_type": "execute_result"
    }
   ],
   "source": [
    "len(word2count)"
   ]
  },
  {
   "cell_type": "code",
   "execution_count": 10,
   "metadata": {
    "id": "q5IGgitqAAbm"
   },
   "outputs": [],
   "source": [
    "#If we only want to retrieve the 80 most used data\n",
    "import heapq\n",
    "freq_words = heapq.nlargest(80, word2count, key=word2count.get)"
   ]
  },
  {
   "cell_type": "code",
   "execution_count": 11,
   "metadata": {
    "id": "aAeclnt5Au1M"
   },
   "outputs": [],
   "source": [
    "X = []\n",
    "for data in dataset:\n",
    "  vector = []\n",
    "  for word in freq_words:\n",
    "    if word in nltk.word_tokenize(data):\n",
    "      vector.append(1)\n",
    "    else:\n",
    "      vector.append(0)\n",
    "  X.append(vector)\n",
    "X = np.asarray(X)"
   ]
  },
  {
   "cell_type": "code",
   "execution_count": 12,
   "metadata": {
    "colab": {
     "base_uri": "https://localhost:8080/"
    },
    "id": "u4vKojKyBlW6",
    "outputId": "02e7fbba-77d9-4ae0-b8ac-3e1b2cfbdd6e"
   },
   "outputs": [
    {
     "data": {
      "text/plain": [
       "array([[1, 0, 0, 1, 0, 0, 0, 1, 1, 1, 0, 0, 0, 0, 0, 0, 0, 1, 1, 1, 1, 1,\n",
       "        1, 1, 1, 1, 1, 1, 0, 0, 0, 0, 0, 0, 0, 0, 0, 0, 0, 0, 0, 0, 0, 0,\n",
       "        0, 0, 0, 0, 0, 0, 0, 0, 0, 0, 0, 0, 0, 0, 0, 0, 0, 0, 0, 0, 0, 0,\n",
       "        0, 0, 0, 0, 0, 0, 0, 0, 0, 0, 0, 0, 0, 0],\n",
       "       [0, 1, 0, 1, 1, 0, 0, 0, 0, 0, 0, 0, 0, 0, 0, 0, 0, 0, 0, 0, 0, 0,\n",
       "        0, 0, 0, 0, 0, 0, 1, 1, 1, 1, 1, 1, 0, 0, 0, 0, 0, 0, 0, 0, 0, 0,\n",
       "        0, 0, 0, 0, 0, 0, 0, 0, 0, 0, 0, 0, 0, 0, 0, 0, 0, 0, 0, 0, 0, 0,\n",
       "        0, 0, 0, 0, 0, 0, 0, 0, 0, 0, 0, 0, 0, 0],\n",
       "       [1, 1, 1, 0, 0, 1, 0, 0, 0, 0, 1, 1, 1, 0, 0, 0, 0, 0, 0, 0, 0, 0,\n",
       "        0, 0, 0, 0, 0, 0, 0, 0, 0, 0, 0, 0, 1, 1, 1, 1, 1, 1, 1, 1, 1, 1,\n",
       "        1, 1, 0, 0, 0, 0, 0, 0, 0, 0, 0, 0, 0, 0, 0, 0, 0, 0, 0, 0, 0, 0,\n",
       "        0, 0, 0, 0, 0, 0, 0, 0, 0, 0, 0, 0, 0, 0],\n",
       "       [0, 0, 1, 0, 0, 0, 1, 0, 0, 0, 0, 0, 0, 1, 0, 0, 0, 0, 0, 0, 0, 0,\n",
       "        0, 0, 0, 0, 0, 0, 0, 0, 0, 0, 0, 0, 0, 0, 0, 0, 0, 0, 0, 0, 0, 0,\n",
       "        0, 0, 1, 1, 1, 1, 0, 0, 0, 0, 0, 0, 0, 0, 0, 0, 0, 0, 0, 0, 0, 0,\n",
       "        0, 0, 0, 0, 0, 0, 0, 0, 0, 0, 0, 0, 0, 0],\n",
       "       [1, 0, 1, 0, 1, 0, 1, 0, 0, 0, 0, 1, 1, 1, 1, 1, 0, 0, 0, 0, 0, 0,\n",
       "        0, 0, 0, 0, 0, 0, 0, 0, 0, 0, 0, 0, 0, 0, 0, 0, 0, 0, 0, 0, 0, 0,\n",
       "        0, 0, 0, 0, 0, 0, 1, 1, 1, 1, 1, 1, 1, 1, 0, 0, 0, 0, 0, 0, 0, 0,\n",
       "        0, 0, 0, 0, 0, 0, 0, 0, 0, 0, 0, 0, 0, 0],\n",
       "       [1, 1, 0, 1, 0, 1, 1, 0, 1, 0, 1, 0, 0, 0, 0, 0, 0, 0, 0, 0, 0, 0,\n",
       "        0, 0, 0, 0, 0, 0, 0, 0, 0, 0, 0, 0, 0, 0, 0, 0, 0, 0, 0, 0, 0, 0,\n",
       "        0, 0, 0, 0, 0, 0, 0, 0, 0, 0, 0, 0, 0, 0, 1, 1, 1, 1, 1, 1, 1, 1,\n",
       "        1, 1, 1, 1, 1, 0, 0, 0, 0, 0, 0, 0, 0, 0],\n",
       "       [0, 1, 1, 0, 1, 0, 0, 0, 0, 1, 0, 0, 0, 0, 1, 1, 1, 0, 0, 0, 0, 0,\n",
       "        0, 0, 0, 0, 0, 0, 0, 0, 0, 0, 0, 0, 0, 0, 0, 0, 0, 0, 0, 0, 0, 0,\n",
       "        0, 0, 0, 0, 0, 0, 0, 0, 0, 0, 0, 0, 0, 0, 0, 0, 0, 0, 0, 0, 0, 0,\n",
       "        0, 0, 0, 0, 0, 1, 1, 1, 1, 1, 1, 1, 1, 1]])"
      ]
     },
     "execution_count": 12,
     "metadata": {},
     "output_type": "execute_result"
    }
   ],
   "source": [
    "X"
   ]
  },
  {
   "cell_type": "code",
   "execution_count": null,
   "metadata": {
    "id": "CoQ9AMMJBmxo"
   },
   "outputs": [],
   "source": []
  },
  {
   "cell_type": "code",
   "execution_count": null,
   "metadata": {},
   "outputs": [],
   "source": []
  }
 ],
 "metadata": {
  "colab": {
   "authorship_tag": "ABX9TyMaF/iwAemjVwcl1+cV7F8C",
   "include_colab_link": true,
   "provenance": []
  },
  "kernelspec": {
   "display_name": "Python 3 (ipykernel)",
   "language": "python",
   "name": "python3"
  },
  "language_info": {
   "codemirror_mode": {
    "name": "ipython",
    "version": 3
   },
   "file_extension": ".py",
   "mimetype": "text/x-python",
   "name": "python",
   "nbconvert_exporter": "python",
   "pygments_lexer": "ipython3",
   "version": "3.8.5"
  }
 },
 "nbformat": 4,
 "nbformat_minor": 4
}
