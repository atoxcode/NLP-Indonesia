{
  "cells": [
    {
      "cell_type": "code",
      "execution_count": 1,
      "metadata": {
        "colab": {
          "base_uri": "https://localhost:8080/"
        },
        "id": "J9LBISv3Kp_Z",
        "outputId": "feffd3d8-2011-4a9d-96dc-42efd3368041"
      },
      "outputs": [],
      "source": [
        "from rouge import Rouge"
      ]
    },
    {
      "cell_type": "code",
      "execution_count": 2,
      "metadata": {
        "id": "B7N-o0LyKxOU"
      },
      "outputs": [],
      "source": [
        "model_out = \"Walaupun jauh, Budi tetap berjalan kaki untuk pergi ke sekolah.\"\n",
        "reference = \"Budi pergi ke sekolah dengan berjalan kaki.\""
      ]
    },
    {
      "cell_type": "code",
      "execution_count": 3,
      "metadata": {
        "colab": {
          "base_uri": "https://localhost:8080/"
        },
        "id": "kZXkUdRhSMa3",
        "outputId": "008e9c08-d526-4a65-e1d2-473aeddd8609"
      },
      "outputs": [
        {
          "data": {
            "text/plain": [
              "[{'rouge-1': {'r': 0.8571428571428571, 'p': 0.6, 'f': 0.7058823480968859},\n",
              "  'rouge-2': {'r': 0.5, 'p': 0.3333333333333333, 'f': 0.39999999520000007},\n",
              "  'rouge-l': {'r': 0.5714285714285714, 'p': 0.4, 'f': 0.470588230449827}}]"
            ]
          },
          "execution_count": 3,
          "metadata": {},
          "output_type": "execute_result"
        }
      ],
      "source": [
        "rouge = Rouge()\n",
        "rouge.get_scores(model_out, reference)"
      ]
    },
    {
      "cell_type": "code",
      "execution_count": null,
      "metadata": {
        "id": "Bctma4uOSSaD"
      },
      "outputs": [],
      "source": []
    }
  ],
  "metadata": {
    "colab": {
      "authorship_tag": "ABX9TyMA7kvctwZ0oN0a8QoqyXyv",
      "provenance": []
    },
    "kernelspec": {
      "display_name": "Python 3",
      "name": "python3"
    },
    "language_info": {
      "codemirror_mode": {
        "name": "ipython",
        "version": 3
      },
      "file_extension": ".py",
      "mimetype": "text/x-python",
      "name": "python",
      "nbconvert_exporter": "python",
      "pygments_lexer": "ipython3",
      "version": "3.10.4"
    }
  },
  "nbformat": 4,
  "nbformat_minor": 0
}
