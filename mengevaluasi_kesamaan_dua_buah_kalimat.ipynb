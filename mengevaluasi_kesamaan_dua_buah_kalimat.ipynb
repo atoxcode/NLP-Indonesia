{
  "nbformat": 4,
  "nbformat_minor": 0,
  "metadata": {
    "colab": {
      "provenance": [],
      "authorship_tag": "ABX9TyMA7kvctwZ0oN0a8QoqyXyv"
    },
    "kernelspec": {
      "name": "python3",
      "display_name": "Python 3"
    },
    "language_info": {
      "name": "python"
    }
  },
  "cells": [
    {
      "cell_type": "code",
      "execution_count": 2,
      "metadata": {
        "colab": {
          "base_uri": "https://localhost:8080/"
        },
        "id": "J9LBISv3Kp_Z",
        "outputId": "feffd3d8-2011-4a9d-96dc-42efd3368041"
      },
      "outputs": [
        {
          "output_type": "stream",
          "name": "stdout",
          "text": [
            "Looking in indexes: https://pypi.org/simple, https://us-python.pkg.dev/colab-wheels/public/simple/\n",
            "Collecting rouge\n",
            "  Downloading rouge-1.0.1-py3-none-any.whl (13 kB)\n",
            "Requirement already satisfied: six in /usr/local/lib/python3.8/dist-packages (from rouge) (1.15.0)\n",
            "Installing collected packages: rouge\n",
            "Successfully installed rouge-1.0.1\n"
          ]
        }
      ],
      "source": [
        "!pip install rouge\n",
        "from rouge import Rouge"
      ]
    },
    {
      "cell_type": "code",
      "source": [
        "model_out = \"Walaupun jauh, Budi tetap berjalan kaki untuk pergi ke sekolah.\"\n",
        "reference = \"Budi pergi ke sekolah dengan berjalan kaki.\""
      ],
      "metadata": {
        "id": "B7N-o0LyKxOU"
      },
      "execution_count": 14,
      "outputs": []
    },
    {
      "cell_type": "code",
      "source": [
        "rouge = Rouge()\n",
        "rouge.get_scores(model_out, reference)"
      ],
      "metadata": {
        "colab": {
          "base_uri": "https://localhost:8080/"
        },
        "id": "kZXkUdRhSMa3",
        "outputId": "008e9c08-d526-4a65-e1d2-473aeddd8609"
      },
      "execution_count": 15,
      "outputs": [
        {
          "output_type": "execute_result",
          "data": {
            "text/plain": [
              "[{'rouge-1': {'r': 0.8571428571428571, 'p': 0.6, 'f': 0.7058823480968859},\n",
              "  'rouge-2': {'r': 0.5, 'p': 0.3333333333333333, 'f': 0.39999999520000007},\n",
              "  'rouge-l': {'r': 0.5714285714285714, 'p': 0.4, 'f': 0.470588230449827}}]"
            ]
          },
          "metadata": {},
          "execution_count": 15
        }
      ]
    },
    {
      "cell_type": "code",
      "source": [],
      "metadata": {
        "id": "Bctma4uOSSaD"
      },
      "execution_count": null,
      "outputs": []
    }
  ]
}